{
 "cells": [
  {
   "cell_type": "markdown",
   "id": "6e420f6a-e22f-453b-a35f-acaf1097bc77",
   "metadata": {},
   "source": [
    "## Introduction\n",
    "\n",
    "Getting started with A/B testing from scratch can often feel like a daunting task, but it doesn't have to be. Certainly, transforming your company or department into a fully data-driven organization will take a lot of time, training, and appropriate tooling. But long before you reach that point, it is possible to start extracting value from your data by creating quick reports that you can easily share with non-technical colleagues.\n",
    "\n",
    "**babbab** is intended exactly for this! Its two purposes are:\n",
    "1. To be the *simplest* tool for Data Analysts/Statisticians to **analyze** A/B tests.\n",
    "2. To return the *simplest* results for Stakeholders/Non-Statisticians to **understand**."
   ]
  },
  {
   "cell_type": "markdown",
   "id": "061f3895-6d57-4906-90c0-54bdd0608603",
   "metadata": {},
   "source": [
    "## Installation\n",
    "\n",
    "This should work in vanilla Python +3.8."
   ]
  },
  {
   "cell_type": "code",
   "execution_count": 1,
   "id": "1b39cb02-9dbb-4af0-ab93-a764be8859cc",
   "metadata": {
    "collapsed": true,
    "jupyter": {
     "outputs_hidden": true
    },
    "scrolled": true
   },
   "outputs": [
    {
     "name": "stdout",
     "output_type": "stream",
     "text": [
      "Requirement already satisfied: babbab in /home/juan/work/babbab/.venv/lib/python3.10/site-packages (0.3.1)\n",
      "Requirement already satisfied: arviz>=0.12.1 in /home/juan/work/babbab/.venv/lib/python3.10/site-packages (from babbab) (0.17.0)\n",
      "Requirement already satisfied: matplotlib>=3.5.2 in /home/juan/work/babbab/.venv/lib/python3.10/site-packages (from babbab) (3.8.2)\n",
      "Requirement already satisfied: pymc>=4.1.2 in /home/juan/work/babbab/.venv/lib/python3.10/site-packages (from babbab) (5.10.3)\n",
      "Requirement already satisfied: packaging in /home/juan/work/babbab/.venv/lib/python3.10/site-packages (from arviz>=0.12.1->babbab) (23.2)\n",
      "Requirement already satisfied: pandas>=1.4.0 in /home/juan/work/babbab/.venv/lib/python3.10/site-packages (from arviz>=0.12.1->babbab) (2.2.0)\n",
      "Requirement already satisfied: h5netcdf>=1.0.2 in /home/juan/work/babbab/.venv/lib/python3.10/site-packages (from arviz>=0.12.1->babbab) (1.3.0)\n",
      "Requirement already satisfied: xarray-einstats>=0.3 in /home/juan/work/babbab/.venv/lib/python3.10/site-packages (from arviz>=0.12.1->babbab) (0.7.0)\n",
      "Requirement already satisfied: scipy>=1.8.0 in /home/juan/work/babbab/.venv/lib/python3.10/site-packages (from arviz>=0.12.1->babbab) (1.12.0)\n",
      "Requirement already satisfied: xarray>=0.21.0 in /home/juan/work/babbab/.venv/lib/python3.10/site-packages (from arviz>=0.12.1->babbab) (2024.1.0)\n",
      "Requirement already satisfied: setuptools>=60.0.0 in /home/juan/work/babbab/.venv/lib/python3.10/site-packages (from arviz>=0.12.1->babbab) (69.0.3)\n",
      "Requirement already satisfied: numpy<2.0,>=1.22.0 in /home/juan/work/babbab/.venv/lib/python3.10/site-packages (from arviz>=0.12.1->babbab) (1.26.3)\n",
      "Requirement already satisfied: typing-extensions>=4.1.0 in /home/juan/work/babbab/.venv/lib/python3.10/site-packages (from arviz>=0.12.1->babbab) (4.9.0)\n",
      "Requirement already satisfied: pillow>=8 in /home/juan/work/babbab/.venv/lib/python3.10/site-packages (from matplotlib>=3.5.2->babbab) (10.2.0)\n",
      "Requirement already satisfied: cycler>=0.10 in /home/juan/work/babbab/.venv/lib/python3.10/site-packages (from matplotlib>=3.5.2->babbab) (0.12.1)\n",
      "Requirement already satisfied: fonttools>=4.22.0 in /home/juan/work/babbab/.venv/lib/python3.10/site-packages (from matplotlib>=3.5.2->babbab) (4.47.2)\n",
      "Requirement already satisfied: contourpy>=1.0.1 in /home/juan/work/babbab/.venv/lib/python3.10/site-packages (from matplotlib>=3.5.2->babbab) (1.2.0)\n",
      "Requirement already satisfied: kiwisolver>=1.3.1 in /home/juan/work/babbab/.venv/lib/python3.10/site-packages (from matplotlib>=3.5.2->babbab) (1.4.5)\n",
      "Requirement already satisfied: pyparsing>=2.3.1 in /home/juan/work/babbab/.venv/lib/python3.10/site-packages (from matplotlib>=3.5.2->babbab) (3.1.1)\n",
      "Requirement already satisfied: python-dateutil>=2.7 in /home/juan/work/babbab/.venv/lib/python3.10/site-packages (from matplotlib>=3.5.2->babbab) (2.8.2)\n",
      "Requirement already satisfied: cloudpickle in /home/juan/work/babbab/.venv/lib/python3.10/site-packages (from pymc>=4.1.2->babbab) (3.0.0)\n",
      "Requirement already satisfied: pytensor<2.19,>=2.18.1 in /home/juan/work/babbab/.venv/lib/python3.10/site-packages (from pymc>=4.1.2->babbab) (2.18.6)\n",
      "Requirement already satisfied: cachetools>=4.2.1 in /home/juan/work/babbab/.venv/lib/python3.10/site-packages (from pymc>=4.1.2->babbab) (5.3.2)\n",
      "Requirement already satisfied: fastprogress>=0.2.0 in /home/juan/work/babbab/.venv/lib/python3.10/site-packages (from pymc>=4.1.2->babbab) (1.0.3)\n",
      "Requirement already satisfied: h5py in /home/juan/work/babbab/.venv/lib/python3.10/site-packages (from h5netcdf>=1.0.2->arviz>=0.12.1->babbab) (3.10.0)\n",
      "Requirement already satisfied: tzdata>=2022.7 in /home/juan/work/babbab/.venv/lib/python3.10/site-packages (from pandas>=1.4.0->arviz>=0.12.1->babbab) (2023.4)\n",
      "Requirement already satisfied: pytz>=2020.1 in /home/juan/work/babbab/.venv/lib/python3.10/site-packages (from pandas>=1.4.0->arviz>=0.12.1->babbab) (2023.3.post1)\n",
      "Requirement already satisfied: etuples in /home/juan/work/babbab/.venv/lib/python3.10/site-packages (from pytensor<2.19,>=2.18.1->pymc>=4.1.2->babbab) (0.3.9)\n",
      "Requirement already satisfied: filelock in /home/juan/work/babbab/.venv/lib/python3.10/site-packages (from pytensor<2.19,>=2.18.1->pymc>=4.1.2->babbab) (3.13.1)\n",
      "Requirement already satisfied: cons in /home/juan/work/babbab/.venv/lib/python3.10/site-packages (from pytensor<2.19,>=2.18.1->pymc>=4.1.2->babbab) (0.4.6)\n",
      "Requirement already satisfied: miniKanren in /home/juan/work/babbab/.venv/lib/python3.10/site-packages (from pytensor<2.19,>=2.18.1->pymc>=4.1.2->babbab) (1.0.3)\n",
      "Requirement already satisfied: logical-unification in /home/juan/work/babbab/.venv/lib/python3.10/site-packages (from pytensor<2.19,>=2.18.1->pymc>=4.1.2->babbab) (0.4.6)\n",
      "Requirement already satisfied: six>=1.5 in /home/juan/work/babbab/.venv/lib/python3.10/site-packages (from python-dateutil>=2.7->matplotlib>=3.5.2->babbab) (1.16.0)\n",
      "Requirement already satisfied: toolz in /home/juan/work/babbab/.venv/lib/python3.10/site-packages (from logical-unification->pytensor<2.19,>=2.18.1->pymc>=4.1.2->babbab) (0.12.0)\n",
      "Requirement already satisfied: multipledispatch in /home/juan/work/babbab/.venv/lib/python3.10/site-packages (from logical-unification->pytensor<2.19,>=2.18.1->pymc>=4.1.2->babbab) (1.0.0)\n",
      "Note: you may need to restart the kernel to use updated packages.\n"
     ]
    }
   ],
   "source": [
    "pip install babbab"
   ]
  },
  {
   "cell_type": "markdown",
   "id": "72374ffa-ed87-46d9-90cd-81e1fdd44162",
   "metadata": {},
   "source": [
    "## A quick example\n",
    "\n",
    "Let's see babbab in action using the [Cookie Cats dataset](https://www.kaggle.com/datasets/yufengsui/mobile-games-ab-testing)\n",
    "\n",
    "Cookie cats is a typical \"match three\" game, where three or more tiles of the same type need to be aligned in order to clear them. Occasionally, players will reach a gate where they need to either wait or make an in-app purchase before being allowed to progress with the game.\n",
    "\n",
    "In this dataset, we have a sample of players; for some of them, the first gate was placed at level 30, and for others it was at level 40. We would like to analyze how this change impacts player retention."
   ]
  },
  {
   "cell_type": "markdown",
   "id": "30324e4f-2e83-49b9-801d-5ff55f995af7",
   "metadata": {},
   "source": [
    "Let's start by importing pandas, loading our dataset, and previewing it:"
   ]
  },
  {
   "cell_type": "code",
   "execution_count": 3,
   "id": "d2c9bbc4-bb98-4c0b-bf4a-4d9c1a772384",
   "metadata": {},
   "outputs": [
    {
     "data": {
      "text/html": [
       "<div>\n",
       "<style scoped>\n",
       "    .dataframe tbody tr th:only-of-type {\n",
       "        vertical-align: middle;\n",
       "    }\n",
       "\n",
       "    .dataframe tbody tr th {\n",
       "        vertical-align: top;\n",
       "    }\n",
       "\n",
       "    .dataframe thead th {\n",
       "        text-align: right;\n",
       "    }\n",
       "</style>\n",
       "<table border=\"1\" class=\"dataframe\">\n",
       "  <thead>\n",
       "    <tr style=\"text-align: right;\">\n",
       "      <th></th>\n",
       "      <th>userid</th>\n",
       "      <th>version</th>\n",
       "      <th>sum_gamerounds</th>\n",
       "      <th>retention_1</th>\n",
       "      <th>retention_7</th>\n",
       "    </tr>\n",
       "  </thead>\n",
       "  <tbody>\n",
       "    <tr>\n",
       "      <th>0</th>\n",
       "      <td>116</td>\n",
       "      <td>gate_30</td>\n",
       "      <td>3</td>\n",
       "      <td>False</td>\n",
       "      <td>False</td>\n",
       "    </tr>\n",
       "    <tr>\n",
       "      <th>1</th>\n",
       "      <td>337</td>\n",
       "      <td>gate_30</td>\n",
       "      <td>38</td>\n",
       "      <td>True</td>\n",
       "      <td>False</td>\n",
       "    </tr>\n",
       "    <tr>\n",
       "      <th>2</th>\n",
       "      <td>377</td>\n",
       "      <td>gate_40</td>\n",
       "      <td>165</td>\n",
       "      <td>True</td>\n",
       "      <td>False</td>\n",
       "    </tr>\n",
       "    <tr>\n",
       "      <th>3</th>\n",
       "      <td>483</td>\n",
       "      <td>gate_40</td>\n",
       "      <td>1</td>\n",
       "      <td>False</td>\n",
       "      <td>False</td>\n",
       "    </tr>\n",
       "    <tr>\n",
       "      <th>4</th>\n",
       "      <td>488</td>\n",
       "      <td>gate_40</td>\n",
       "      <td>179</td>\n",
       "      <td>True</td>\n",
       "      <td>True</td>\n",
       "    </tr>\n",
       "  </tbody>\n",
       "</table>\n",
       "</div>"
      ],
      "text/plain": [
       "   userid  version  sum_gamerounds  retention_1  retention_7\n",
       "0     116  gate_30               3        False        False\n",
       "1     337  gate_30              38         True        False\n",
       "2     377  gate_40             165         True        False\n",
       "3     483  gate_40               1        False        False\n",
       "4     488  gate_40             179         True         True"
      ]
     },
     "execution_count": 3,
     "metadata": {},
     "output_type": "execute_result"
    }
   ],
   "source": [
    "import pandas as pd\n",
    "\n",
    "df = pd.read_csv('cookie_cats.csv')\n",
    "df.head()"
   ]
  },
  {
   "cell_type": "markdown",
   "id": "b658aa61-1f39-4234-b437-7435dcd5f0a9",
   "metadata": {},
   "source": [
    "We have 5 columns. The ones that are relevant for us are:\n",
    "- **version** represents whether the player had the first gate at level 30 (control group) or 40 (variant)\n",
    "- **retention_1** represents whether the player came back 1 day after installing the game\n",
    "- **retention_7** represents whether the player came back 7 days after installing the game"
   ]
  },
  {
   "cell_type": "markdown",
   "id": "14334e3b-b22d-4877-bc75-168325f79cca",
   "metadata": {},
   "source": [
    "Let's use **babbab** to quickly check whether pushing the gate back 10 levels had any effect on the retention after one day. We just need the number of total users en each group, and the number of players that returned:"
   ]
  },
  {
   "cell_type": "code",
   "execution_count": 4,
   "id": "bd3c78a8-ef15-4890-9014-c55b797eb7f9",
   "metadata": {},
   "outputs": [],
   "source": [
    "num_control_retention1 = len(df[(df['version'] == 'gate_30')&(df['retention_1'] == True)])\n",
    "num_control_users = len(df[df['version'] == 'gate_30'])\n",
    "num_variant_retention1 = len(df[(df['version'] == 'gate_40')&(df['retention_1'] == True)])\n",
    "num_variant_users = len(df[df['version'] == 'gate_40'])"
   ]
  },
  {
   "cell_type": "markdown",
   "id": "813a91d5-5539-45cd-9295-7082b82db399",
   "metadata": {},
   "source": [
    "And now, we can just use the function `quick_analysis()` to analyze and plot the results:"
   ]
  },
  {
   "cell_type": "code",
   "execution_count": 6,
   "id": "caa9f131-8eec-4fd7-8eea-6f5b57e29006",
   "metadata": {},
   "outputs": [
    {
     "name": "stderr",
     "output_type": "stream",
     "text": [
      "WARNING (pytensor.tensor.blas): Using NumPy C-API based implementation for BLAS functions.\n",
      "Auto-assigning NUTS sampler...\n",
      "Initializing NUTS using jitter+adapt_diag...\n",
      "Multiprocess sampling (4 chains in 4 jobs)\n",
      "NUTS: [control, variant]\n"
     ]
    },
    {
     "data": {
      "text/html": [
       "\n",
       "<style>\n",
       "    /* Turns off some styling */\n",
       "    progress {\n",
       "        /* gets rid of default border in Firefox and Opera. */\n",
       "        border: none;\n",
       "        /* Needs to be in here for Safari polyfill so background images work as expected. */\n",
       "        background-size: auto;\n",
       "    }\n",
       "    progress:not([value]), progress:not([value])::-webkit-progress-bar {\n",
       "        background: repeating-linear-gradient(45deg, #7e7e7e, #7e7e7e 10px, #5c5c5c 10px, #5c5c5c 20px);\n",
       "    }\n",
       "    .progress-bar-interrupted, .progress-bar-interrupted::-webkit-progress-bar {\n",
       "        background: #F44336;\n",
       "    }\n",
       "</style>\n"
      ],
      "text/plain": [
       "<IPython.core.display.HTML object>"
      ]
     },
     "metadata": {},
     "output_type": "display_data"
    },
    {
     "data": {
      "text/html": [
       "\n",
       "    <div>\n",
       "      <progress value='24000' class='' max='24000' style='width:300px; height:20px; vertical-align: middle;'></progress>\n",
       "      100.00% [24000/24000 00:03&lt;00:00 Sampling 4 chains, 0 divergences]\n",
       "    </div>\n",
       "    "
      ],
      "text/plain": [
       "<IPython.core.display.HTML object>"
      ]
     },
     "metadata": {},
     "output_type": "display_data"
    },
    {
     "name": "stderr",
     "output_type": "stream",
     "text": [
      "Sampling 4 chains for 1_000 tune and 5_000 draw iterations (4_000 + 20_000 draws total) took 3 seconds.\n"
     ]
    },
    {
     "data": {
      "image/png": "[encoded data removed]",
      "text/plain": [
       "<Figure size 1600x800 with 1 Axes>"
      ]
     },
     "metadata": {},
     "output_type": "display_data"
    }
   ],
   "source": [
    "import babbab as bab\n",
    "\n",
    "plot, statement, trace = bab.quick_analysis(num_control_retention1, \n",
    "                                            num_control_users, \n",
    "                                            num_variant_retention1, \n",
    "                                            num_variant_users)"
   ]
  },
  {
   "cell_type": "markdown",
   "id": "283a55e4-8439-4d77-a374-ed7047ca0332",
   "metadata": {},
   "source": [
    "It's as simple as that!\n",
    "\n",
    "Upon first inspection, it would appear that pushing back the gate has a very slightly negative effect. With **babbab**, you have everything you need:\n",
    "\n",
    "1. In `plot` you will find a matplotlib figure. You can change the title and labels in the quick_analysis function.\n",
    "2. In `statement`, you will get a string that is intended to be interpreted verbatim by Non-Statisticians.\n",
    "3. In `trace`, you will get an arviz InferenceData object, in case you want to explore the run further.\n",
    "\n",
    "In the signature of `quick_analysis` you can configure the statistics and the aesthetics of most of this. See the next section for more examples!"
   ]
  },
  {
   "cell_type": "code",
   "execution_count": 7,
   "id": "93091aa8-9e3d-4172-9cdd-836e205ceb74",
   "metadata": {},
   "outputs": [
    {
     "data": {
      "text/plain": [
       "'There is a 95% chance that the difference forVariant with respect to Control is between -2.4% and -0.4%'"
      ]
     },
     "execution_count": 7,
     "metadata": {},
     "output_type": "execute_result"
    }
   ],
   "source": [
    "statement"
   ]
  },
  {
   "cell_type": "markdown",
   "id": "9ea51e5e-8c59-4335-aa2c-d35cc50d5cbc",
   "metadata": {},
   "source": [
    "## Advanced parameters\n",
    "\n",
    "Due to the large sample size, we have a very tight distribution - this is great, since it ensures that our estimations are spot-on. However, the challenge lies in representing this precision when visualized with bars that are, well, on the chunkier side.\n",
    "\n",
    "Let's spruce up our plot to make it not only visually appealing but also more shareable and informative:\n",
    "- We're increasing the `bins` parameter from its default (50) to 150. This adjustment gives us a more detailed view with slimmer bars.\n",
    "- Decreasing the `xlimit` parameter to 10 (default is 60) will let us zoom in and focus on the nuances.\n",
    "- Using the `title` parameter, we will inject a concise statement into the chart, ensuring that a quick glance is all it takes to grasp the essentials."
   ]
  },
  {
   "cell_type": "code",
   "execution_count": 9,
   "id": "14a09c19-0a15-42d4-8a80-ff0c99561c5c",
   "metadata": {},
   "outputs": [
    {
     "name": "stderr",
     "output_type": "stream",
     "text": [
      "Auto-assigning NUTS sampler...\n",
      "Initializing NUTS using jitter+adapt_diag...\n",
      "Multiprocess sampling (4 chains in 4 jobs)\n",
      "NUTS: [control, variant]\n"
     ]
    },
    {
     "data": {
      "text/html": [
       "\n",
       "<style>\n",
       "    /* Turns off some styling */\n",
       "    progress {\n",
       "        /* gets rid of default border in Firefox and Opera. */\n",
       "        border: none;\n",
       "        /* Needs to be in here for Safari polyfill so background images work as expected. */\n",
       "        background-size: auto;\n",
       "    }\n",
       "    progress:not([value]), progress:not([value])::-webkit-progress-bar {\n",
       "        background: repeating-linear-gradient(45deg, #7e7e7e, #7e7e7e 10px, #5c5c5c 10px, #5c5c5c 20px);\n",
       "    }\n",
       "    .progress-bar-interrupted, .progress-bar-interrupted::-webkit-progress-bar {\n",
       "        background: #F44336;\n",
       "    }\n",
       "</style>\n"
      ],
      "text/plain": [
       "<IPython.core.display.HTML object>"
      ]
     },
     "metadata": {},
     "output_type": "display_data"
    },
    {
     "data": {
      "text/html": [
       "\n",
       "    <div>\n",
       "      <progress value='24000' class='' max='24000' style='width:300px; height:20px; vertical-align: middle;'></progress>\n",
       "      100.00% [24000/24000 00:04&lt;00:00 Sampling 4 chains, 0 divergences]\n",
       "    </div>\n",
       "    "
      ],
      "text/plain": [
       "<IPython.core.display.HTML object>"
      ]
     },
     "metadata": {},
     "output_type": "display_data"
    },
    {
     "name": "stderr",
     "output_type": "stream",
     "text": [
      "Sampling 4 chains for 1_000 tune and 5_000 draw iterations (4_000 + 20_000 draws total) took 4 seconds.\n"
     ]
    },
    {
     "data": {
      "image/png": "[encoded data removed]",
      "text/plain": [
       "<Figure size 1600x800 with 1 Axes>"
      ]
     },
     "metadata": {},
     "output_type": "display_data"
    }
   ],
   "source": [
    "plot, statement, trace = bab.quick_analysis(num_control_retention1, \n",
    "                                            num_control_users, \n",
    "                                            num_variant_retention1, \n",
    "                                            num_variant_users,\n",
    "                                           bins=150,\n",
    "                                           xlimit = 10,\n",
    "                                           title = 'Effect on 1-Day Retention of Pushing the First Gate to Level 40')"
   ]
  }
 ],
 "metadata": {
  "kernelspec": {
   "display_name": "Python 3 (ipykernel)",
   "language": "python",
   "name": "python3"
  },
  "language_info": {
   "codemirror_mode": {
    "name": "ipython",
    "version": 3
   },
   "file_extension": ".py",
   "mimetype": "text/x-python",
   "name": "python",
   "nbconvert_exporter": "python",
   "pygments_lexer": "ipython3",
   "version": "3.10.12"
  }
 },
 "nbformat": 4,
 "nbformat_minor": 5
}
